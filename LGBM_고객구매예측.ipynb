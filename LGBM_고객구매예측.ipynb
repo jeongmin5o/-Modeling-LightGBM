{
  "cells": [
    {
      "cell_type": "markdown",
      "metadata": {
        "id": "Eungq84yiHKH"
      },
      "source": [
        "# RFM"
      ]
    },
    {
      "cell_type": "markdown",
      "metadata": {
        "id": "3SwjIwyliHKL"
      },
      "source": [
        "### recency_data = 현재 날짜 - 고객 ID별 가장 마지막 구매일\n",
        "- 현재날짜를 maxdate로()('2021-12-31')로 가정"
      ]
    },
    {
      "cell_type": "code",
      "execution_count": null,
      "metadata": {
        "id": "8eXINbmhiHKP"
      },
      "outputs": [],
      "source": [
        "sports_rfm = sports[(sports['clac'] == '스포츠')]"
      ]
    },
    {
      "cell_type": "code",
      "execution_count": null,
      "metadata": {
        "id": "GXFNCbOxiHKP"
      },
      "outputs": [],
      "source": [
        "recency_data = sports_rfm.groupby('cust',as_index= False )['de_dt'].max()  #as_index: reset_index 랑 동일\n",
        "recency_data.columns = ['CustomerID', 'LastPurchaseDate']"
      ]
    },
    {
      "cell_type": "markdown",
      "metadata": {
        "id": "4qkgu7L4iHKQ"
      },
      "source": [
        "*** 현재날짜변경***"
      ]
    },
    {
      "cell_type": "code",
      "execution_count": null,
      "metadata": {
        "id": "movA6GEYiHKR"
      },
      "outputs": [],
      "source": [
        "# 현재날짜를 maxdate로()('2021-12-31')로 가정\n",
        "recency_data['Recency'] = recency_data['LastPurchaseDate'].apply(lambda x: (sports_rfm['de_dt'].max() - x).days)\n"
      ]
    },
    {
      "cell_type": "code",
      "execution_count": null,
      "metadata": {
        "id": "G36lkhdNiHKS"
      },
      "outputs": [],
      "source": [
        "recency_data.drop(columns =['LastPurchaseDate'],inplace = True )"
      ]
    },
    {
      "cell_type": "markdown",
      "metadata": {
        "id": "dhgG4LCoiHKS"
      },
      "source": [
        "### Frequency(최빈성)\n",
        "\n",
        "- invoiceNo(rct_no와 동일): 다양한 물품을 구매해도, 송장번호가 한개면 한번 구매한것으로 여김"
      ]
    },
    {
      "cell_type": "code",
      "execution_count": null,
      "metadata": {
        "id": "u4qUBKD3iHKT"
      },
      "outputs": [],
      "source": [
        "frequency_data = sports_rfm.copy()\n",
        "\n",
        "# 어떤 물품을 구매했는지가 아니라, 한 사람한테 몇개의 영수증번호가 있는지 매칭 \n",
        "frequency_data.drop_duplicates(subset = ['cust','rct_no'], keep = 'first',inplace = True)\n",
        "\n",
        "frequency_data = frequency_data.groupby('cust', as_index = False)['rct_no'].count()\n",
        "frequency_data.columns = ['CustomerID','Frequency']"
      ]
    },
    {
      "cell_type": "markdown",
      "metadata": {
        "id": "LxqBp2QsiHKU"
      },
      "source": [
        "### Monetary (금액)"
      ]
    },
    {
      "cell_type": "code",
      "execution_count": null,
      "metadata": {
        "id": "QnlqDvy7iHKU"
      },
      "outputs": [],
      "source": [
        "monetary_data=c_ana.groupby('cust',as_index=False)['buy_am'].sum()\n",
        "monetary_data.columns = ['CustomerID','Monetary']"
      ]
    },
    {
      "cell_type": "markdown",
      "metadata": {
        "id": "TcCJo4pyiHKV"
      },
      "source": [
        "merge 해주기 (recency + frequency + monetary)"
      ]
    },
    {
      "cell_type": "code",
      "execution_count": null,
      "metadata": {
        "id": "lxyG8bfGiHKY"
      },
      "outputs": [],
      "source": [
        "rf = recency_data.merge(frequency_data, how = 'left', on='CustomerID')\n",
        "rfm = rf.merge(monetary_data, how = 'left', on='CustomerID')"
      ]
    },
    {
      "cell_type": "markdown",
      "metadata": {
        "id": "3VypeMCFiHKZ"
      },
      "source": [
        "### 스케일링 (minmax)\n",
        "- minmax_scale: 최대값을 1. 최소값을 0으로 표준화 하는 기법\n",
        "- RFM을 하나의 점수로 환산시켜야 함\n",
        "- 현재 각각의 단위가 다르기 때문에 각 컬럼별 기준으로 표준화 필요"
      ]
    },
    {
      "cell_type": "code",
      "execution_count": null,
      "metadata": {
        "id": "nvIvyqCTiHKa"
      },
      "outputs": [],
      "source": [
        "from sklearn.preprocessing import minmax_scale\n",
        "\n",
        "## 최근성: 숫자가 작을수록 좋음\n",
        "# 즉, 최근 구매일이 얼마 지나지 않은 고객이 더 점수가 높음\n",
        "\n",
        "rfm['Recency'] = minmax_scale(rfm['Recency'], axis = 0, copy = True )\n",
        "#행기준으로, 카피해서 만들기\n",
        "rfm['Recency'] = 1 - rfm['Recency']  # 작은값이 좋기 때문에, 1에서 빼줌(반전)\n",
        "\n",
        "rfm['Frequency'] = minmax_scale(rfm['Frequency'], axis = 0, copy = True )\n",
        "\n",
        "rfm['Monetary'] = minmax_scale(rfm['Monetary'], axis = 0, copy = True )\n"
      ]
    },
    {
      "cell_type": "code",
      "execution_count": null,
      "metadata": {
        "id": "BHoyaHKUiHKd"
      },
      "outputs": [],
      "source": [
        "# score\n",
        "rfm['Score'] = rfm['Recency'] + rfm['Frequency'] + rfm['Monetary']\n",
        "\n",
        "# score 에 minmax_scale 적용\n",
        "# 100을 곱해서 100점 만점으로 스케일링\n",
        "\n",
        "rfm['Score'] = minmax_scale(rfm['Score'], axis = 0, copy = True) * 100\n",
        "\n",
        "rfm['Score'] = round(rfm['Score'], 0)"
      ]
    },
    {
      "cell_type": "code",
      "source": [
        "sports = sports.merge(rfm, left_on = 'cust', right_on = 'CustomerID', how='left')"
      ],
      "metadata": {
        "id": "QzH0w9tmfJBF"
      },
      "execution_count": null,
      "outputs": []
    },
    {
      "cell_type": "code",
      "source": [
        "sports = sports.fillna('0')"
      ],
      "metadata": {
        "id": "zCLDZCr-mb0_"
      },
      "execution_count": null,
      "outputs": []
    },
    {
      "cell_type": "code",
      "source": [
        "# null값 없음\n",
        "sports.isnull().sum().sum()"
      ],
      "metadata": {
        "colab": {
          "base_uri": "https://localhost:8080/"
        },
        "id": "bnR-x6iCnE2C",
        "outputId": "a6b87453-5b18-4703-c24b-3dccb4e34803"
      },
      "execution_count": null,
      "outputs": [
        {
          "output_type": "execute_result",
          "data": {
            "text/plain": [
              "0"
            ]
          },
          "metadata": {},
          "execution_count": 106
        }
      ]
    },
    {
      "cell_type": "code",
      "source": [
        "# 필요없는 열 삭제\n",
        "\n",
        "sports.drop(['clac','live_zon','rct_no','de_dt','CustomerID'], axis=1, inplace=True)"
      ],
      "metadata": {
        "id": "mww4E-bmovo4"
      },
      "execution_count": null,
      "outputs": []
    },
    {
      "cell_type": "code",
      "source": [
        "sports.drop(['Recency','Frequency','Monetary'], axis=1, inplace=True)"
      ],
      "metadata": {
        "id": "Z6UiGcauquNf"
      },
      "execution_count": null,
      "outputs": []
    },
    {
      "cell_type": "code",
      "source": [
        "sports['Score'] = sports['Score'].astype('float') # Score str -> float"
      ],
      "metadata": {
        "id": "mOCRcpNFrvhz"
      },
      "execution_count": null,
      "outputs": []
    },
    {
      "cell_type": "markdown",
      "metadata": {
        "id": "1PfhOHXo8HTH"
      },
      "source": [
        "# 모델링"
      ]
    },
    {
      "cell_type": "markdown",
      "metadata": {
        "id": "8YVJwWDoALin"
      },
      "source": [
        "## train_valid, test set 나누기"
      ]
    },
    {
      "cell_type": "code",
      "execution_count": null,
      "metadata": {
        "id": "_76esbb9ALld"
      },
      "outputs": [],
      "source": [
        "from sklearn.model_selection import train_test_split\n",
        "from sklearn.model_selection import KFold, cross_val_score, train_test_split\n",
        "import xgboost as xgb\n",
        "import lightgbm as lgb\n",
        "from sklearn.linear_model import LogisticRegression\n",
        "from lightgbm import LGBMClassifier\n",
        "from sklearn.metrics import roc_auc_score,f1_score, accuracy_score, confusion_matrix, recall_score, precision_score\n",
        "\n",
        "\n",
        "# 스포츠를 산다 1, 안산다 0 (y값)\n",
        "X = sports.drop(['sports'], axis=1)\n",
        "y = sports['sports']\n",
        "\n",
        "# train, test 나누기\n",
        "X_train_valid, X_test, y_train_valid, y_test = train_test_split(X, y, test_size=0.25, random_state=1234, stratify=y)\n",
        "\n",
        "\n",
        "# 1. test 데이터에서 cust_ID 나누기\n",
        "test_id = X_test['cust'] \n",
        "\n",
        "# 2. X_test에서  cust_ID 삭제\n",
        "X_test.drop(['cust'], axis=1, inplace=True)\n",
        "\n",
        "# 3. X_train_valid 데이터에서 ID 삭제\n",
        "X_train_valid.drop(['cust'], axis=1, inplace=True)"
      ]
    },
    {
      "cell_type": "markdown",
      "metadata": {
        "id": "ByFc5ZPEALo0"
      },
      "source": [
        "## Feature Engineer"
      ]
    },
    {
      "cell_type": "code",
      "execution_count": null,
      "metadata": {
        "id": "560kKqOjALrx"
      },
      "outputs": [],
      "source": [
        "# OneHot Encoding \n",
        "\n",
        "X_train_valid = pd.get_dummies(X_train_valid)\n",
        "\n",
        "# 모델링 이후 test 할 때를 위해 get_dummies\n",
        "X_test_copy = pd.get_dummies(X_test)"
      ]
    },
    {
      "cell_type": "markdown",
      "metadata": {
        "id": "B997sbQjJDLc"
      },
      "source": [
        "## train, valid set 나누기"
      ]
    },
    {
      "cell_type": "code",
      "execution_count": null,
      "metadata": {
        "id": "-wqBoAl1zfUV"
      },
      "outputs": [],
      "source": [
        "# X_train_test 에서 train 과 test 나누기\n",
        "# X_train, y_train\n",
        "# X_valid, y_valid\n",
        "X_train , X_valid, y_train, y_valid = train_test_split(X_train_valid, y_train_valid, test_size = 0.25, random_state = 1234, stratify=y_train_valid)"
      ]
    },
    {
      "cell_type": "markdown",
      "metadata": {
        "id": "I41OYWhONtxW"
      },
      "source": [
        "##  SMOTE 오버 샘플링\n",
        "\n"
      ]
    },
    {
      "cell_type": "code",
      "execution_count": null,
      "metadata": {
        "id": "74MZ6CE2OAnT"
      },
      "outputs": [],
      "source": [
        "# y값의 분포가 매우 불균형하여 smote기법으로 오버 샘플링 이후 모델에 적용"
      ]
    },
    {
      "cell_type": "code",
      "execution_count": null,
      "metadata": {
        "colab": {
          "base_uri": "https://localhost:8080/"
        },
        "id": "TajmFVwnN1F2",
        "outputId": "6f94eef6-3ca8-44d3-bbd2-cd0d4fd8304e"
      },
      "outputs": [
        {
          "output_type": "stream",
          "name": "stdout",
          "text": [
            "SMOTE 적용 전 학습용 피쳐/레이블 데이터 세트:  (2135712, 45) (2135712,)\n",
            "SMOTE 적용 후 학습용 피쳐/레이블 데이터 세트:  (4177498, 45) (4177498,)\n",
            "SMOTE 적용 후 레이블 값 분포: \n",
            " 0    2088749\n",
            "1    2088749\n",
            "Name: sports, dtype: int64\n"
          ]
        }
      ],
      "source": [
        "from imblearn.over_sampling import SMOTE\n",
        "smote = SMOTE(random_state=0)\n",
        "X_train_over, y_train_over = smote.fit_resample(X_train, y_train)\n",
        "print('SMOTE 적용 전 학습용 피쳐/레이블 데이터 세트: ', X_train.shape, y_train.shape)\n",
        "print('SMOTE 적용 후 학습용 피쳐/레이블 데이터 세트: ', X_train_over.shape, y_train_over.shape)\n",
        "print('SMOTE 적용 후 레이블 값 분포: \\n', pd.Series(y_train_over).value_counts())"
      ]
    },
    {
      "cell_type": "markdown",
      "metadata": {
        "id": "Q1DiEoz_KXdP"
      },
      "source": [
        "## 모델 예측 성능"
      ]
    },
    {
      "cell_type": "code",
      "source": [
        "# lightgbm\n",
        "lgbm_clf = LGBMClassifier(n_estimators=1000, num_leaves=64, n_jobs=-1)"
      ],
      "metadata": {
        "id": "4EAP02WmMtcM"
      },
      "execution_count": null,
      "outputs": []
    },
    {
      "cell_type": "code",
      "source": [
        "lgbm_clf.fit(X_train_over, y_train_over)"
      ],
      "metadata": {
        "id": "y_YUrKN3Obbl"
      },
      "execution_count": null,
      "outputs": []
    },
    {
      "cell_type": "code",
      "source": [
        "pred = lgbm_clf.predict(X_valid)\n",
        "pred_proba = lgbm_clf.predict_proba(X_valid)[:,1]"
      ],
      "metadata": {
        "id": "FpnOR1CsOy2D"
      },
      "execution_count": null,
      "outputs": []
    },
    {
      "cell_type": "code",
      "source": [
        "from sklearn.metrics import roc_auc_score,f1_score, accuracy_score\n",
        "\n",
        "accuracy = accuracy_score(y_valid, pred)\n",
        "roc_auc = roc_auc_score(y_valid, pred_proba)\n",
        "\n",
        "print(f'정확도:{accuracy}, AUC:{roc_auc}')"
      ],
      "metadata": {
        "id": "M3zWKKnUO0-b",
        "colab": {
          "base_uri": "https://localhost:8080/"
        },
        "outputId": "4fda9a96-d217-4a28-ce05-682d9eac0bd7"
      },
      "execution_count": null,
      "outputs": [
        {
          "output_type": "stream",
          "name": "stdout",
          "text": [
            "정확도:0.961271517969392, AUC:0.9629518213276089\n"
          ]
        }
      ]
    },
    {
      "cell_type": "code",
      "source": [
        "from sklearn.model_selection import cross_val_score, StratifiedKFold, learning_curve\n",
        "\n",
        "def plot_learning_curve(estimator, title, X, y, ylim=None, cv=None,\n",
        "                        n_jobs=-1, train_sizes=np.linspace(.1, 1.0, 5)):\n",
        "    plt.figure()\n",
        "    plt.title(title)\n",
        "    if ylim is not None:\n",
        "        plt.ylim(*ylim)\n",
        "    plt.xlabel(\"Training examples\")\n",
        "    plt.ylabel(\"Score\")\n",
        "    train_sizes, train_scores, test_scores = learning_curve(\n",
        "        estimator, X, y, cv=cv, n_jobs=n_jobs, train_sizes=train_sizes)\n",
        "    train_scores_mean = np.mean(train_scores, axis=1)\n",
        "    train_scores_std = np.std(train_scores, axis=1)\n",
        "    test_scores_mean = np.mean(test_scores, axis=1)\n",
        "    test_scores_std = np.std(test_scores, axis=1)\n",
        "    plt.grid()\n",
        "\n",
        "    plt.fill_between(train_sizes, train_scores_mean - train_scores_std,\n",
        "                     train_scores_mean + train_scores_std, alpha=0.1,\n",
        "                     color=\"r\")\n",
        "    plt.fill_between(train_sizes, test_scores_mean - test_scores_std,\n",
        "                     test_scores_mean + test_scores_std, alpha=0.1, color=\"g\")\n",
        "    plt.plot(train_sizes, train_scores_mean, 'o-', color=\"r\",\n",
        "             label=\"Training score\")\n",
        "    plt.plot(train_sizes, test_scores_mean, 'o-', color=\"g\",\n",
        "             label=\"Cross-validation score\")\n",
        "\n",
        "    plt.legend(loc=\"best\")\n",
        "    return plt"
      ],
      "metadata": {
        "id": "FN42YXD8L4ZI"
      },
      "execution_count": null,
      "outputs": []
    },
    {
      "cell_type": "code",
      "source": [
        "def plot_roc_curve(fper, tper):\n",
        "    plt.plot(fper, tper, color='red', label='ROC')\n",
        "    plt.plot([0, 1], [0, 1], color='green', linestyle='--')\n",
        "    plt.xlabel('False Positive Rate')\n",
        "    plt.ylabel('True Positive Rate')\n",
        "    plt.title('Receiver Operating Characteristic Curve')\n",
        "    plt.legend()\n",
        "    plt.show()\n",
        "    "
      ],
      "metadata": {
        "id": "U5GKxXtpL4iX"
      },
      "execution_count": null,
      "outputs": []
    },
    {
      "cell_type": "code",
      "source": [
        "from sklearn.metrics import roc_curve\n",
        "pred_proba = lgbm_clf.predict_proba(X_valid)[:,1]\n",
        "fper, tper, thresholds = roc_curve(y_valid, pred_proba)\n",
        "plot_roc_curve(fper, tper)"
      ],
      "metadata": {
        "id": "1PIn_460REg-",
        "colab": {
          "base_uri": "https://localhost:8080/",
          "height": 295
        },
        "outputId": "3d07b1b7-f49f-44d6-f2d5-fbaf2926f48c"
      },
      "execution_count": null,
      "outputs": [
        {
          "output_type": "display_data",
          "data": {
            "text/plain": [
              "<Figure size 432x288 with 1 Axes>"
            ],
            "image/png": "[encoded data removed]"
          },
          "metadata": {
            "needs_background": "light"
          }
        }
      ]
    },
    {
      "cell_type": "code",
      "source": [
        "test_pred = lgbm_clf.predict(X_test_copy)"
      ],
      "metadata": {
        "id": "yZiUgbWJbbhd"
      },
      "execution_count": null,
      "outputs": []
    },
    {
      "cell_type": "code",
      "source": [
        "result = pd.DataFrame({'cust_id' : test_id, 'purchase' : test_pred})"
      ],
      "metadata": {
        "id": "2KwBNtktRElB"
      },
      "execution_count": null,
      "outputs": []
    },
    {
      "cell_type": "code",
      "source": [
        "X_test = X_test[['month','day','weekday']]"
      ],
      "metadata": {
        "id": "82XpVu30REon"
      },
      "execution_count": null,
      "outputs": []
    }
  ],
  "metadata": {
    "colab": {
      "collapsed_sections": [
        "MjnG9vvrC0-T",
        "mt8dtjYfC1Eu",
        "qVaNt0imC1aX",
        "dhgG4LCoiHKS",
        "LxqBp2QsiHKU",
        "3VypeMCFiHKZ",
        "8YVJwWDoALin"
      ],
      "machine_shape": "hm",
      "name": "LGBM_고객구매예측",
      "provenance": [],
      "toc_visible": true
    },
    "gpuClass": "standard",
    "kernelspec": {
      "display_name": "Python 3",
      "name": "python3"
    },
    "language_info": {
      "name": "python"
    }
  },
  "nbformat": 4,
  "nbformat_minor": 0
}