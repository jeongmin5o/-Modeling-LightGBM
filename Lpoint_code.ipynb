{
  "cells": [
    {
      "cell_type": "markdown",
      "metadata": {
        "id": "view-in-github",
        "colab_type": "text"
      },
      "source": [
        "<a href=\"https://colab.research.google.com/github/jeongmin5o/lightGBM_-/blob/main/Lpoint_code.ipynb\" target=\"_parent\"><img src=\"https://colab.research.google.com/assets/colab-badge.svg\" alt=\"Open In Colab\"/></a>"
      ]
    },
    {
      "cell_type": "markdown",
      "metadata": {
        "id": "TYNZQIchC009"
      },
      "source": [
        "# 데이터"
      ]
    },
    {
      "cell_type": "markdown",
      "metadata": {
        "id": "tj-mB9qzKRuf"
      },
      "source": [
        "## 데이터 불러오기"
      ]
    },
    {
      "cell_type": "code",
      "execution_count": null,
      "metadata": {
        "colab": {
          "base_uri": "https://localhost:8080/"
        },
        "id": "ZorGUm1fKJ5M",
        "outputId": "b5ca0c09-a13a-4a30-b727-77afafedb862"
      },
      "outputs": [
        {
          "output_type": "stream",
          "name": "stdout",
          "text": [
            "Mounted at /content/drive\n",
            "Reading package lists... Done\n",
            "Building dependency tree       \n",
            "Reading state information... Done\n",
            "fonts-nanum is already the newest version (20170925-1).\n",
            "The following package was automatically installed and is no longer required:\n",
            "  libnvidia-common-460\n",
            "Use 'sudo apt autoremove' to remove it.\n",
            "0 upgraded, 0 newly installed, 0 to remove and 19 not upgraded.\n",
            "/usr/share/fonts: caching, new cache contents: 0 fonts, 1 dirs\n",
            "/usr/share/fonts/truetype: caching, new cache contents: 0 fonts, 3 dirs\n",
            "/usr/share/fonts/truetype/humor-sans: caching, new cache contents: 1 fonts, 0 dirs\n",
            "/usr/share/fonts/truetype/liberation: caching, new cache contents: 16 fonts, 0 dirs\n",
            "/usr/share/fonts/truetype/nanum: caching, new cache contents: 10 fonts, 0 dirs\n",
            "/usr/local/share/fonts: caching, new cache contents: 0 fonts, 0 dirs\n",
            "/root/.local/share/fonts: skipping, no such directory\n",
            "/root/.fonts: skipping, no such directory\n",
            "/var/cache/fontconfig: cleaning cache directory\n",
            "/root/.cache/fontconfig: not cleaning non-existent cache directory\n",
            "/root/.fontconfig: not cleaning non-existent cache directory\n",
            "fc-cache: succeeded\n"
          ]
        }
      ],
      "source": [
        "from google.colab import drive\n",
        "drive.mount('/content/drive', force_remount=True)\n",
        "\n",
        "# ▶ 경로 설정 (※ Colab을 활성화시켰다면 보통 Colab Notebooks 폴더가 자동 생성)\n",
        "import os\n",
        "os.chdir('/content/drive/MyDrive/Colab Notebooks/fc/롯데멤버스_공모전/LPOINT_BIG_COMP')\n",
        "os.getcwd()\n",
        "\n",
        "import pandas as pd\n",
        "import numpy as np\n",
        "import matplotlib.pyplot as plt\n",
        "import seaborn as sns\n",
        "%matplotlib inline\n",
        "\n",
        "import warnings\n",
        "warnings.filterwarnings('ignore')\n",
        "\n",
        "import re\n",
        "import datetime\n",
        "\n",
        "#코랩 한글깨짐 방지 설치\n",
        "!sudo apt-get install -y fonts-nanum\n",
        "!sudo fc-cache -fv\n",
        "!rm ~/.cache/matplotlib -rf\n",
        "\n",
        "plt.rc('font', family='NanumBarunGothic')\n",
        "pd.set_option('display.max_columns',None) #"
      ]
    },
    {
      "cell_type": "code",
      "execution_count": null,
      "metadata": {
        "id": "QjDjjn-xKJ1N"
      },
      "outputs": [],
      "source": [
        "#전체 데이터 돌리기\n",
        "\n",
        "data1 = pd.read_csv('data/LPOINT_BIG_COMP_01_DEMO.csv')\n",
        "data2 = pd.read_csv('data/LPOINT_BIG_COMP_02_PDDE.csv')\n",
        "data3 = pd.read_csv('data/LPOINT_BIG_COMP_03_COP_U.csv')\n",
        "data4 = pd.read_csv('data/LPOINT_BIG_COMP_04_PD_CLAC.csv')\n",
        "data5 = pd.read_csv('data/LPOINT_BIG_COMP_05_BR.csv')\n",
        "data6 = pd.read_csv('data/LPOINT_BIG_COMP_06_LPAY.csv')"
      ]
    },
    {
      "cell_type": "markdown",
      "metadata": {
        "id": "SEpezVEoFJEW"
      },
      "source": [
        "## 데이터 합치기"
      ]
    },
    {
      "cell_type": "markdown",
      "metadata": {
        "id": "MjnG9vvrC0-T"
      },
      "source": [
        "### data2 ~ data5 합치기 (total_2345)"
      ]
    },
    {
      "cell_type": "code",
      "execution_count": null,
      "metadata": {
        "id": "YPsnwrXxC1BZ"
      },
      "outputs": [],
      "source": [
        "# data2 에 없는 'vst_dt' 열 추가\n",
        "\n",
        "data2['vst_dt'] = np.nan  # 'vst_dt' nan값으로 넣기\n",
        "# 열 순서 재배열\n",
        "data2 = data2[['cust','rct_no','chnl_dv','cop_c','br_c','pd_c','de_dt','de_hr','vst_dt','buy_am','buy_ct']]  \n",
        "\n",
        "# data2와 data3을 세로로 붙이기 위해 (열기준) data3를 data2의 열이름의 갯수와 배열을 동일하게 해주기\n",
        "# data3에는 없는 열 값은 nan 으로 넣기\n",
        "data3['pd_c'] = np.nan   \n",
        "data3['buy_ct'] = np.nan\n",
        "\n",
        "# 다시 재배열\n",
        "data3 = data3[['cust','rct_no','chnl_dv','cop_c','br_c','pd_c','de_dt','de_hr','vst_dt','buy_am','buy_ct']]\n",
        "\n",
        "#열 기준으로 data2와 data3 합쳐주기\n",
        "# 세로로 합칠땐, append함수 이용\n",
        "total_23 = data2.append(data3)  # data2 밑에 data3 함수 넣기\n",
        "\n",
        "# 'pd_c'를 기준으로 data4와 합치기\n",
        "total_234 = pd.merge(total_23, data4, on=['pd_c'], how='left')  #total_23의 pd_c를 기준으로 합치기\n",
        "total_234.head(3)\n",
        "\n",
        "# 'br_c','cop_c'를 기준으로 data5와 합치기\n",
        "total_2345 = pd.merge(total_234, data5, on=['br_c','cop_c'], how='left')   # 두 테이블의 중복 열이 2개이기 때문에, 만약 한개만 설정한다면 x,y 값으로 중복되어 출력됨\n",
        "# 때문에, 중복되는 두 열을 기준으로 조인"
      ]
    },
    {
      "cell_type": "markdown",
      "metadata": {
        "id": "mt8dtjYfC1Eu"
      },
      "source": [
        "### 엘페이 이용자의 인구특성:all_cust (data1 +data6)"
      ]
    },
    {
      "cell_type": "code",
      "execution_count": null,
      "metadata": {
        "id": "dVxA4cIWC1Hp"
      },
      "outputs": [],
      "source": [
        "# data6의 테이블은 L페이로 구매한 데이터만 있음\n",
        "# user 컬럼을 만들어, L페이 구매 여부 판단 \n",
        "# L페이 구매 = 1 L페이 구매 != 0\n",
        "data6['user'] = 1\n",
        "\n",
        "# 고객번호 중복 제거한 데이터 셋 pay_user\n",
        "# 중복을 제거한 이유는, L페이로 구매한 고객이냐 아니냐 정도를 파악하기 위함 \n",
        "pay_user = data6.drop_duplicates(['cust'], keep='first', inplace=False, ignore_index=False)\n",
        "\n",
        "# 고객정보를 담은 data1과 엘페이 구매유저를 담은 pay_user와 결합하여\n",
        "# L페이로 구매한 경험이 있는 고객인지 아닌지를 파악하는 테이블 생성\n",
        "all_cust = pd.merge(data1, pay_user, on='cust', how='left')  #all_cust : 했나 안했나\n",
        "\n",
        "# 필요없는 컬럼 제거\n",
        "all_cust.drop(['rct_no','cop_c','chnl_dv','de_dt','de_hr','buy_am'], axis=1, inplace=True)"
      ]
    },
    {
      "cell_type": "code",
      "execution_count": null,
      "metadata": {
        "id": "YVo3RkqhC1Kv"
      },
      "outputs": [],
      "source": [
        "# all_cust csv파일로 추출\n",
        "# all_cust.to_csv('all_cust.csv', index=False) "
      ]
    },
    {
      "cell_type": "code",
      "execution_count": null,
      "metadata": {
        "id": "rYw-5e4hC1Nl"
      },
      "outputs": [],
      "source": [
        "# L페이 구매내역과 고객정보를 합쳐서, L페이 이용 고객들의 정보 확인 \n",
        "pay_list = pd.merge(data1, data6, on='cust', how='inner')"
      ]
    },
    {
      "cell_type": "markdown",
      "metadata": {
        "id": "sImZnD290l5N"
      },
      "source": [
        "### 전체데이터: c_ana(all_cust + total_2345)\n",
        "| 제휴사, 비제휴사(L00, L001) 제외한 데이터"
      ]
    },
    {
      "cell_type": "code",
      "execution_count": null,
      "metadata": {
        "id": "gkeUQTHJslCb"
      },
      "outputs": [],
      "source": [
        "c_ana = pd.merge(total_2345, all_cust, on='cust', how='left')"
      ]
    },
    {
      "cell_type": "code",
      "execution_count": null,
      "metadata": {
        "id": "e8sjF0Gjcc4T"
      },
      "outputs": [],
      "source": [
        "# c_ana csv파일로 추출\n",
        "# c_ana.to_csv('final.csv', index=False) "
      ]
    },
    {
      "cell_type": "code",
      "execution_count": null,
      "metadata": {
        "id": "DqcVWkfbslGU"
      },
      "outputs": [],
      "source": [
        "c_ana.rename(columns = {'zon_hlv_x': 'buy_zon', 'zon_hlv_y' : 'live_zon'}, inplace=True)"
      ]
    },
    {
      "cell_type": "markdown",
      "metadata": {
        "id": "snISFRd7C1T2"
      },
      "source": [
        "## 데이터 설명 & EDA(간단한 코드 이외에는 모두 데이터 관련 내용이라 삭제하였습니다.)"
      ]
    },
    {
      "cell_type": "code",
      "execution_count": null,
      "metadata": {
        "id": "oNYtST-uC1Xi"
      },
      "outputs": [],
      "source": [
        ""
      ]
    },
    {
      "cell_type": "markdown",
      "metadata": {
        "id": "qVaNt0imC1aX"
      },
      "source": [
        "# 데이터 전처리"
      ]
    },
    {
      "cell_type": "code",
      "execution_count": null,
      "metadata": {
        "id": "6QHK4k-yO78z"
      },
      "outputs": [],
      "source": [
        "c_ana = pd.read_csv('data/final.csv')\n",
        "c_ana.rename(columns={'user': 'Lpay_user'}, inplace = True)"
      ]
    },
    {
      "cell_type": "code",
      "execution_count": null,
      "metadata": {
        "id": "YC47AtsEigbs"
      },
      "outputs": [],
      "source": [
        "#1000원 미만 제거 -> 이 금액들은 추가 지불 등 특수 사례로 추측하며, 마케팅 가치가 없다고 판단\n",
        "\n",
        "c_ana_drop_6 = c_ana.copy()\n",
        "c_ana_drop_6 = c_ana_drop_6[c_ana_drop_6['buy_am'] >= 1000]\n",
        "c_ana_drop_6 = c_ana_drop_6[c_ana_drop_6['de_dt'] >= '2021-01-01']\n",
        "\n",
        "\n",
        "# 금융/보험 서비스, 기타상품, 기타(비상품), 담배, 여행/레저 서비스 대분류 제거\n",
        "# 컴퓨터, 모바일, 계절가전, 냉장/세탁가전 등 1회성 구매 이후 장기간 구매 안 할 물품들 제거\n",
        "\n",
        "c_ana_drop_6 =  c_ana_drop_6[c_ana_drop_6['clac_hlv_nm'] != '금융/보험서비스']\n",
        "c_ana_drop_6 =  c_ana_drop_6[c_ana_drop_6['clac_hlv_nm'] != '기타상품']\n",
        "c_ana_drop_6 =  c_ana_drop_6[c_ana_drop_6['clac_hlv_nm'] != '기타(비상품)']\n",
        "c_ana_drop_6 =  c_ana_drop_6[c_ana_drop_6['clac_hlv_nm'] != '담배']\n",
        "c_ana_drop_6 =  c_ana_drop_6[c_ana_drop_6['clac_hlv_nm'] != '테넌트/음식점']\n",
        "c_ana_drop_6 =  c_ana_drop_6[c_ana_drop_6['clac_hlv_nm'] != '컴퓨터']\n",
        "c_ana_drop_6 =  c_ana_drop_6[c_ana_drop_6['clac_hlv_nm'] != '모바일']\n",
        "c_ana_drop_6 =  c_ana_drop_6[c_ana_drop_6['clac_hlv_nm'] != '계절가전']\n",
        "c_ana_drop_6 =  c_ana_drop_6[c_ana_drop_6['clac_hlv_nm'] != '냉장/세탁가전']"
      ]
    },
    {
      "cell_type": "code",
      "execution_count": null,
      "metadata": {
        "id": "qNX2aZLWihdS"
      },
      "outputs": [],
      "source": [
        "# 불필요한 컬럼 제거\n",
        "c_ana_drop_6 = c_ana_drop_6.drop([ 'br_c', 'pd_c', 'pd_nm','clac_mcls_nm','vst_dt'], axis = 1) "
      ]
    },
    {
      "cell_type": "code",
      "execution_count": null,
      "metadata": {
        "id": "bz3ejyXPj12e"
      },
      "outputs": [],
      "source": [
        "# 시간 데이터 나누기\n",
        "# de_dt -> year, month, day, weekday\n",
        "c_ana_drop_6['de_dt'] = pd.to_datetime(c_ana_drop_6['de_dt'])\n",
        "c_ana_drop_6['year'] = c_ana_drop_6['de_dt'].dt.year\n",
        "c_ana_drop_6['month'] = c_ana_drop_6['de_dt'].dt.month\n",
        "c_ana_drop_6['day'] = c_ana_drop_6['de_dt'].dt.day\n",
        "c_ana_drop_6['weekday'] = c_ana_drop_6['de_dt'].dt.weekday #0: 월요일 "
      ]
    },
    {
      "cell_type": "markdown",
      "metadata": {
        "id": "TquigJihzBbt"
      },
      "source": [
        "## 테이블 나누기(A & ETC)"
      ]
    },
    {
      "cell_type": "code",
      "execution_count": null,
      "metadata": {
        "id": "DdDYj_1uzBft"
      },
      "outputs": [],
      "source": [
        "# 제휴사 A (온/ 오프라인 A01~06)\n",
        "A =  c_ana_drop_6[c_ana_drop_6['cop_c'].str.contains('A')]\n",
        "\n",
        "# 제휴사 ETC( 온오프라인 B~E )\n",
        "ETC = c_ana_drop_6[c_ana_drop_6['cop_c'].str.contains('A')== False]"
      ]
    },
    {
      "cell_type": "markdown",
      "metadata": {
        "id": "oWauLygb1ZNE"
      },
      "source": [
        "## A 제휴사"
      ]
    },
    {
      "cell_type": "code",
      "execution_count": null,
      "metadata": {
        "id": "LntPY-_3Wp4t"
      },
      "outputs": [],
      "source": [
        "A.drop(['year','zon_mcls'], axis=1, inplace=True)\n",
        "\n",
        "# A.drop(['buy_zon'], axis=1, inplace=True)"
      ]
    },
    {
      "cell_type": "markdown",
      "metadata": {
        "id": "FMCURvXcOAVS"
      },
      "source": [
        "### clac 나누기"
      ]
    },
    {
      "cell_type": "markdown",
      "metadata": {
        "id": "CXSyDSvgaSHt"
      },
      "source": [
        "> 대분류 그룹핑\n",
        "59개 대분류를 8개로\n",
        "\n",
        "|  |clac_hlv_nm|\n",
        "|--|--|\n",
        "|1. 스포츠|스포츠패션, 아웃도어/레저, 시즌스포츠, 구기/필드스포츠, 헬스/피트니스|\n",
        "|2. 케어| 퍼스널케어, 화장품/뷰티케어,건강용품|\n",
        "|3. 식품 및 식재료| 조미료, 채소, 양곡, 병통조림, 수산물, 축산물,건해산물 , 냉동식품 ,대용식, 조리식품, 냉장식품,  과일, 과자, 주류, 음료, 커피/차, 유제품, 건강식품|\n",
        "|4.  의류 | 여성의류, 패션잡화, 남성의류|\n",
        "|5. 육아용품| 출산/육아용품, 유아식품, 유아동의류 |\n",
        "|6. 가전 및 가구|  생활/주방가전, 모바일,영상/음향가전, 서적/음반/악기, 컴퓨터,가구, 침구/수예, 계절가전, 냉장/세탁가전, 인테리어/조명|\n",
        "|7. 생활잡화|청소/세탁/욕실용품, 세제/위생, 주방잡화, 원예/애완, 식기/조리기구,속옷/양말/홈웨어|\n",
        "|8 기타| 완구, 문구/사무용품, 테넌트/음식점, 생활/렌탈서비스, 상품권, 자동차용품, 공구/안전용품, 기타(비상품), 기타상품, 금융/보험서비스, 담배|\n",
        "\n",
        "* '테넌트/음식점, 모바일, 계절 가전, 컴퓨터, 냉장/세탁가전' 은 제외\n",
        "\n",
        "\n"
      ]
    },
    {
      "cell_type": "code",
      "execution_count": null,
      "metadata": {
        "colab": {
          "base_uri": "https://localhost:8080/"
        },
        "id": "_6I4FSPXviRm",
        "outputId": "8c9a07ad-2664-4f30-8b36-dfd9154947b5"
      },
      "outputs": [
        {
          "output_type": "execute_result",
          "data": {
            "text/plain": [
              "array(['남성의류', '주방잡화', '테넌트/음식점', '속옷/양말/홈웨어', '구기/필드스포츠', '여성의류', '음료',\n",
              "       '아웃도어/레저', '유아동의류', '패션잡화', '스포츠패션', '식기/조리기구', '과자', '조리식품',\n",
              "       '침구/수예', '대용식', '헬스/피트니스', '서적/음반/악기', '생활/렌탈서비스', '조미료', '주류',\n",
              "       '수산물', '완구', '채소', '유아식품', '시즌스포츠', '과일', '상품권', '냉장식품', '냉동식품',\n",
              "       '축산물', '자동차용품', '화장품/뷰티케어', '커피/차', '계절가전', '가구', '건강식품',\n",
              "       '영상/음향가전', '양곡', '유제품', '생활/주방가전', '냉장/세탁가전', '여행/레저서비스', '세제/위생',\n",
              "       '퍼스널케어', '컴퓨터', '문구/사무용품', '모바일', '원예/애완', '병통조림', '건강용품',\n",
              "       '출산/육아용품', '공구/안전용품', '건해산물', '인테리어/조명', '청소/세탁/욕실용품', '기타(비상품)',\n",
              "       '담배', '기타상품', '금융/보험서비스', nan], dtype=object)"
            ]
          },
          "metadata": {},
          "execution_count": 74
        }
      ],
      "source": [
        "c_ana['clac_hlv_nm'].unique()"
      ]
    },
    {
      "cell_type": "code",
      "execution_count": null,
      "metadata": {
        "id": "U-GTjnweI3fv"
      },
      "outputs": [],
      "source": [
        "A['clac'] = \"others\"\n",
        "\n",
        "#가격군별로 다시 묶기 특히, 의류\n",
        "\n",
        "#스포츠\n",
        "A.loc[A['clac_hlv_nm'] == '스포츠패션','clac'] = '스포츠'\n",
        "A.loc[A['clac_hlv_nm'] == '아웃도어/레저','clac'] = '스포츠'\n",
        "A.loc[A['clac_hlv_nm'] == '시즌스포츠','clac'] = '스포츠'\n",
        "A.loc[A['clac_hlv_nm'] == '구기/필드스포츠','clac'] = '스포츠'\n",
        "A.loc[A['clac_hlv_nm'] == '헬스/피트니스','clac'] = '스포츠'\n",
        "\n",
        "\n",
        " #케어\n",
        "A.loc[A['clac_hlv_nm'] == '퍼스널케어','clac' ] ='케어'\n",
        "A.loc[A['clac_hlv_nm'] == '화장품/뷰티케어','clac' ] ='케어'\n",
        "A.loc[A['clac_hlv_nm'] == '건강용품','clac'] = '케어'\n",
        "\n",
        "#식품\n",
        "A.loc[A['clac_hlv_nm'] == '조미료','clac' ] ='식품 및 식재료'\n",
        "A.loc[A['clac_hlv_nm'] == '채소','clac' ] ='식품 및 식재료'\n",
        "A.loc[A['clac_hlv_nm'] == '양곡','clac' ] ='식품 및 식재료'\n",
        "A.loc[A['clac_hlv_nm'] == '병통조림','clac' ] ='식품 및 식재료'\n",
        "A.loc[A['clac_hlv_nm'] == '수산물','clac' ] ='식품 및 식재료'\n",
        "A.loc[A['clac_hlv_nm'] == '축산물','clac' ] ='식품 및 식재료'\n",
        "A.loc[A['clac_hlv_nm'] == '건해산물','clac' ] ='식품 및 식재료'\n",
        "A.loc[A['clac_hlv_nm'] == '냉동식품','clac' ] ='식품 및 식재료'\n",
        "A.loc[A['clac_hlv_nm'] == '대용식','clac' ] ='식품 및 식재료'\n",
        "A.loc[A['clac_hlv_nm'] == '조리식품','clac' ] ='식품 및 식재료'\n",
        "A.loc[A['clac_hlv_nm'] == '냉장식품','clac' ] ='식품 및 식재료'\n",
        "A.loc[A['clac_hlv_nm'] == '과일','clac' ] ='식품 및 식재료'\n",
        "A.loc[A['clac_hlv_nm'] == '과자','clac' ] ='식품 및 식재료'\n",
        "A.loc[A['clac_hlv_nm'] == '주류','clac' ] ='식품 및 식재료'\n",
        "A.loc[A['clac_hlv_nm'] == '음료','clac' ] ='식품 및 식재료'\n",
        "A.loc[A['clac_hlv_nm'] == '커피/차','clac' ] ='식품 및 식재료'\n",
        "A.loc[A['clac_hlv_nm'] == '유제품','clac' ] ='식품 및 식재료'\n",
        "A.loc[A['clac_hlv_nm'] == '건강식품','clac' ] ='식품 및 식재료'\n",
        "\n",
        "\n",
        "# 의류\n",
        "A.loc[A['clac_hlv_nm'] == '여성의류','clac' ] ='의류'\n",
        "A.loc[A['clac_hlv_nm'] == '패션잡화','clac' ] ='의류'\n",
        "A.loc[A['clac_hlv_nm'] == '남성의류','clac' ] ='의류'\n",
        "\n",
        "# 육아용품\n",
        "A.loc[A['clac_hlv_nm'] == '출산/육아용품','clac' ] ='육아용품'\n",
        "A.loc[A['clac_hlv_nm'] == '유아식품','clac' ] ='육아용품'\n",
        "A.loc[A['clac_hlv_nm'] == '유아동의류','clac' ] ='육아용품'\n",
        "\n",
        "# # 가전 및 가구\n",
        "A.loc[A['clac_hlv_nm'] == '생활/주방가전','clac' ] ='가전 및 가구'\n",
        "A.loc[A['clac_hlv_nm'] == '영상/음향가전','clac' ] ='가전 및 가구'\n",
        "A.loc[A['clac_hlv_nm'] == '서적/음반/악기','clac' ] ='가전 및 가구'\n",
        "A.loc[A['clac_hlv_nm'] == '가구','clac' ] ='가전 및 가구'\n",
        "A.loc[A['clac_hlv_nm'] == '침구/수예','clac' ] ='가전 및 가구'\n",
        "A.loc[A['clac_hlv_nm'] == '인테리어/조명','clac' ] ='가전 및 가구'\n",
        "\n",
        "\n",
        "# 생활잡화\n",
        "A.loc[A['clac_hlv_nm'] == '청소/세탁/욕실용품','clac' ] ='생활잡화'\n",
        "A.loc[A['clac_hlv_nm'] == '세제/위생','clac' ] ='생활잡화'\n",
        "A.loc[A['clac_hlv_nm'] == '주방잡화','clac' ] ='생활잡화'\n",
        "A.loc[A['clac_hlv_nm'] == '원예/애완','clac' ] ='생활잡화'\n",
        "A.loc[A['clac_hlv_nm'] == '식기/조리기구','clac' ] ='생활잡화'\n",
        "A.loc[A['clac_hlv_nm'] == '속옷/양말/홈웨어','clac' ] ='생활잡화'\n",
        "\n",
        "\n",
        "#기타\n",
        "A.loc[A['clac_hlv_nm'] == '완구','clac' ] ='기타'\n",
        "A.loc[A['clac_hlv_nm'] == '문구/사무용품','clac' ] ='기타'\n",
        "A.loc[A['clac_hlv_nm'] == '생활/렌탈서비스','clac' ] ='기타'\n",
        "A.loc[A['clac_hlv_nm'] == '상품권','clac' ] ='기타'\n",
        "A.loc[A['clac_hlv_nm'] == '자동차용품','clac' ] ='기타'\n",
        "A.loc[A['clac_hlv_nm'] == '공구/안전용품','clac' ] ='기타'\n",
        "\n",
        "\n",
        "\n",
        "# 대분류 드롭\n",
        "\n",
        "A.drop(['clac_hlv_nm'], axis=1, inplace=True)"
      ]
    },
    {
      "cell_type": "markdown",
      "metadata": {
        "id": "fq29H60X1thM"
      },
      "source": [
        "### 이상치 제거"
      ]
    },
    {
      "cell_type": "code",
      "execution_count": null,
      "metadata": {
        "id": "WjSuAFRFJcQ5"
      },
      "outputs": [],
      "source": [
        "# 이상치 제거\n",
        "from collections import Counter\n",
        "\n",
        "# Outlier detection \n",
        "\n",
        "def detect_outliers(df,features, multiple):\n",
        "\n",
        "  outlier_indices = []\n",
        "  \n",
        "  # iterate over features(columns)\n",
        "  for col in features:\n",
        "    # 1st quartile (25%)\n",
        "    Q1 = np.percentile(df[col], 25)\n",
        "    # 3rd quartile (75%)\n",
        "    Q3 = np.percentile(df[col],75)\n",
        "    # Interquartile range (IQR)\n",
        "    IQR = Q3 - Q1\n",
        "    \n",
        "    # outlier step\n",
        "    outlier_step = multiple  * IQR\n",
        "    \n",
        "    \n",
        "    # Determine a list of indices of outliers for feature col\n",
        "    outlier_list_col = df[(df[col] < Q1 - outlier_step) | (df[col] > Q3 + outlier_step )].index\n",
        "    # append the found outlier indices for col to the list of outlier indices \n",
        "    outlier_indices.extend(outlier_list_col)\n",
        "\n",
        "  outlier_indices = Counter(outlier_indices)\n",
        "  return outlier_indices\n",
        "\n",
        "# 분류별 이상치 제거\n",
        "clac_list = ['의류', '생활잡화', '기타', '스포츠', '식품 및 식재료', '육아용품', '가전 및 가구', '케어']\n",
        "\n",
        "\n",
        "for i in clac_list :\n",
        "  ddd = A[ A['clac'] == i]\n",
        "  Outliers_to_drop = detect_outliers( ddd, ['buy_am'],10) \n",
        "  A = A.drop(Outliers_to_drop)\n",
        "\n",
        "# 일반적으로 multiple 1.5배이지만, 너무 많은 양의 이상치가 지워지므로, 10배로 지정하였다."
      ]
    },
    {
      "cell_type": "code",
      "execution_count": null,
      "metadata": {
        "colab": {
          "base_uri": "https://localhost:8080/"
        },
        "id": "qOn2MYXX1OIy",
        "outputId": "f8553afc-9e32-46ca-bfc4-9a4d37f047ec"
      },
      "outputs": [
        {
          "output_type": "execute_result",
          "data": {
            "text/plain": [
              "<matplotlib.axes._subplots.AxesSubplot at 0x7f1948139a10>"
            ]
          },
          "metadata": {},
          "execution_count": 77
        },
        {
          "output_type": "display_data",
          "data": {
            "text/plain": [
              "<Figure size 432x288 with 1 Axes>"
            ],
            "image/png": "[encoded data removed]"
          },
          "metadata": {
            "needs_background": "light"
          }
        }
      ],
      "source": [
        "# 이상치 제거 전의 boxplot\n",
        "sns.boxplot(A[A['clac'] == '스포츠']['buy_am'])"
      ]
    },
    {
      "cell_type": "code",
      "execution_count": null,
      "metadata": {
        "colab": {
          "base_uri": "https://localhost:8080/"
        },
        "id": "RMA5V5dn3AGV",
        "outputId": "5d3cb980-925a-4974-ad89-fce6ddb10f7a"
      },
      "outputs": [
        {
          "output_type": "execute_result",
          "data": {
            "text/plain": [
              "<matplotlib.axes._subplots.AxesSubplot at 0x7f19494e3650>"
            ]
          },
          "metadata": {},
          "execution_count": 78
        },
        {
          "output_type": "display_data",
          "data": {
            "text/plain": [
              "<Figure size 432x288 with 1 Axes>"
            ],
            "image/png": "[encoded data removed]"
          },
          "metadata": {
            "needs_background": "light"
          }
        }
      ],
      "source": [
        "# 이상치 제거 후의 boxplot\n",
        "sns.boxplot(A[A['clac'] == '스포츠']['buy_am'])"
      ]
    },
    {
      "cell_type": "markdown",
      "metadata": {
        "id": "dCeMGKrPy7gM"
      },
      "source": [
        "### 데이터 나누기\n",
        "\n",
        "< 문제정의 >\n",
        "\n",
        "1.   고객의 구매 행동이 발생하는 시간대 예측\n",
        "    -> 어떤 고객이, 몇시에 어떤 품목에 대한 구매가 발생할 것인가\n",
        "\n"
      ]
    },
    {
      "cell_type": "markdown",
      "metadata": {
        "id": "BgTYApoyy7gN"
      },
      "source": [
        "- 정규화 시키기\n",
        "이산형 데이터('buy_am')의 분포가 정규화 되어있지 않기 때문에 이를 정규화 시키는 과정이 필요. "
      ]
    },
    {
      "cell_type": "code",
      "execution_count": null,
      "metadata": {
        "id": "4_uJlSoVzKtD"
      },
      "outputs": [],
      "source": [
        "# 'buyer' 열 만들기 : 스포츠를 산다 1, 안산다 0 \n",
        "A['sports'] = np.where(A['clac'] == '스포츠', 1, 0)"
      ]
    },
    {
      "cell_type": "markdown",
      "metadata": {
        "id": "VhYechbeCbWs"
      },
      "source": [
        "## ETC"
      ]
    },
    {
      "cell_type": "code",
      "execution_count": null,
      "metadata": {
        "id": "tSWt8bq9NetD"
      },
      "outputs": [],
      "source": [
        "ETC = c_ana_drop_6[c_ana_drop_6['cop_c'].str.contains('A')== False]"
      ]
    },
    {
      "cell_type": "code",
      "execution_count": null,
      "metadata": {
        "id": "wUqwOz1TCin6"
      },
      "outputs": [],
      "source": [
        "# cop_c 별로 묶기\n",
        "ETC['B'] = 0\n",
        "ETC['C'] = 0\n",
        "ETC['D'] = 0\n",
        "ETC['E'] = 0\n",
        "\n",
        "\n",
        "# 각 제휴사를방문했으면 1, 아니면 0\n",
        "ETC.loc[ETC['cop_c'].str.contains('B'),'B'] = 1\n",
        "ETC.loc[ETC['cop_c'].str.contains('C'),'C'] = 1\n",
        "ETC.loc[ETC['cop_c'].str.contains('D'),'D'] = 1\n",
        "ETC.loc[ETC['cop_c'].str.contains('E'),'E'] = 1"
      ]
    },
    {
      "cell_type": "code",
      "execution_count": null,
      "metadata": {
        "colab": {
          "base_uri": "https://localhost:8080/"
        },
        "id": "jTTHIHhHPSFB",
        "outputId": "f805e401-5e7b-499e-c9dc-23fd8068dd57"
      },
      "outputs": [
        {
          "output_type": "execute_result",
          "data": {
            "text/plain": [
              "            B  C  D  E\n",
              "cust                  \n",
              "M000034966  0  0  1  0\n",
              "M000059535  0  1  0  0"
            ],
            "text/html": [
              "\n",
              "  <div id=\"df-d2770781-f876-46ff-8f48-347b07e2b8d2\">\n",
              "    <div class=\"colab-df-container\">\n",
              "      <div>\n",
              "<style scoped>\n",
              "    .dataframe tbody tr th:only-of-type {\n",
              "        vertical-align: middle;\n",
              "    }\n",
              "\n",
              "    .dataframe tbody tr th {\n",
              "        vertical-align: top;\n",
              "    }\n",
              "\n",
              "    .dataframe thead th {\n",
              "        text-align: right;\n",
              "    }\n",
              "</style>\n",
              "<table border=\"1\" class=\"dataframe\">\n",
              "  <thead>\n",
              "    <tr style=\"text-align: right;\">\n",
              "      <th></th>\n",
              "      <th>B</th>\n",
              "      <th>C</th>\n",
              "      <th>D</th>\n",
              "      <th>E</th>\n",
              "    </tr>\n",
              "    <tr>\n",
              "      <th>cust</th>\n",
              "      <th></th>\n",
              "      <th></th>\n",
              "      <th></th>\n",
              "      <th></th>\n",
              "    </tr>\n",
              "  </thead>\n",
              "  <tbody>\n",
              "    <tr>\n",
              "      <th>M000034966</th>\n",
              "      <td>0</td>\n",
              "      <td>0</td>\n",
              "      <td>1</td>\n",
              "      <td>0</td>\n",
              "    </tr>\n",
              "    <tr>\n",
              "      <th>M000059535</th>\n",
              "      <td>0</td>\n",
              "      <td>1</td>\n",
              "      <td>0</td>\n",
              "      <td>0</td>\n",
              "    </tr>\n",
              "  </tbody>\n",
              "</table>\n",
              "</div>\n",
              "      <button class=\"colab-df-convert\" onclick=\"convertToInteractive('df-d2770781-f876-46ff-8f48-347b07e2b8d2')\"\n",
              "              title=\"Convert this dataframe to an interactive table.\"\n",
              "              style=\"display:none;\">\n",
              "        \n",
              "  <svg xmlns=\"http://www.w3.org/2000/svg\" height=\"24px\"viewBox=\"0 0 24 24\"\n",
              "       width=\"24px\">\n",
              "    <path d=\"M0 0h24v24H0V0z\" fill=\"none\"/>\n",
              "    <path d=\"M18.56 5.44l.94 2.06.94-2.06 2.06-.94-2.06-.94-.94-2.06-.94 2.06-2.06.94zm-11 1L8.5 8.5l.94-2.06 2.06-.94-2.06-.94L8.5 2.5l-.94 2.06-2.06.94zm10 10l.94 2.06.94-2.06 2.06-.94-2.06-.94-.94-2.06-.94 2.06-2.06.94z\"/><path d=\"M17.41 7.96l-1.37-1.37c-.4-.4-.92-.59-1.43-.59-.52 0-1.04.2-1.43.59L10.3 9.45l-7.72 7.72c-.78.78-.78 2.05 0 2.83L4 21.41c.39.39.9.59 1.41.59.51 0 1.02-.2 1.41-.59l7.78-7.78 2.81-2.81c.8-.78.8-2.07 0-2.86zM5.41 20L4 18.59l7.72-7.72 1.47 1.35L5.41 20z\"/>\n",
              "  </svg>\n",
              "      </button>\n",
              "      \n",
              "  <style>\n",
              "    .colab-df-container {\n",
              "      display:flex;\n",
              "      flex-wrap:wrap;\n",
              "      gap: 12px;\n",
              "    }\n",
              "\n",
              "    .colab-df-convert {\n",
              "      background-color: #E8F0FE;\n",
              "      border: none;\n",
              "      border-radius: 50%;\n",
              "      cursor: pointer;\n",
              "      display: none;\n",
              "      fill: #1967D2;\n",
              "      height: 32px;\n",
              "      padding: 0 0 0 0;\n",
              "      width: 32px;\n",
              "    }\n",
              "\n",
              "    .colab-df-convert:hover {\n",
              "      background-color: #E2EBFA;\n",
              "      box-shadow: 0px 1px 2px rgba(60, 64, 67, 0.3), 0px 1px 3px 1px rgba(60, 64, 67, 0.15);\n",
              "      fill: #174EA6;\n",
              "    }\n",
              "\n",
              "    [theme=dark] .colab-df-convert {\n",
              "      background-color: #3B4455;\n",
              "      fill: #D2E3FC;\n",
              "    }\n",
              "\n",
              "    [theme=dark] .colab-df-convert:hover {\n",
              "      background-color: #434B5C;\n",
              "      box-shadow: 0px 1px 3px 1px rgba(0, 0, 0, 0.15);\n",
              "      filter: drop-shadow(0px 1px 2px rgba(0, 0, 0, 0.3));\n",
              "      fill: #FFFFFF;\n",
              "    }\n",
              "  </style>\n",
              "\n",
              "      <script>\n",
              "        const buttonEl =\n",
              "          document.querySelector('#df-d2770781-f876-46ff-8f48-347b07e2b8d2 button.colab-df-convert');\n",
              "        buttonEl.style.display =\n",
              "          google.colab.kernel.accessAllowed ? 'block' : 'none';\n",
              "\n",
              "        async function convertToInteractive(key) {\n",
              "          const element = document.querySelector('#df-d2770781-f876-46ff-8f48-347b07e2b8d2');\n",
              "          const dataTable =\n",
              "            await google.colab.kernel.invokeFunction('convertToInteractive',\n",
              "                                                     [key], {});\n",
              "          if (!dataTable) return;\n",
              "\n",
              "          const docLinkHtml = 'Like what you see? Visit the ' +\n",
              "            '<a target=\"_blank\" href=https://colab.research.google.com/notebooks/data_table.ipynb>data table notebook</a>'\n",
              "            + ' to learn more about interactive tables.';\n",
              "          element.innerHTML = '';\n",
              "          dataTable['output_type'] = 'display_data';\n",
              "          await google.colab.output.renderOutput(dataTable, element);\n",
              "          const docLink = document.createElement('div');\n",
              "          docLink.innerHTML = docLinkHtml;\n",
              "          element.appendChild(docLink);\n",
              "        }\n",
              "      </script>\n",
              "    </div>\n",
              "  </div>\n",
              "  "
            ]
          },
          "metadata": {},
          "execution_count": 82
        }
      ],
      "source": [
        "# 고객 별로 A제휴사를 제외한 기타 제휴사 별 구매한 횟수\n",
        "ETC = ETC.groupby('cust')['B','C','D','E'].sum()\n",
        "ETC.head(2)"
      ]
    },
    {
      "cell_type": "markdown",
      "metadata": {
        "id": "dibHC8C-8HJm"
      },
      "source": [
        "## A & ETC 합치기"
      ]
    },
    {
      "cell_type": "code",
      "execution_count": null,
      "metadata": {
        "id": "z1mmw63F9_P2"
      },
      "outputs": [],
      "source": [
        "sports = pd.merge(A,ETC, how='left',on=['cust'])"
      ]
    },
    {
      "cell_type": "code",
      "execution_count": null,
      "metadata": {
        "id": "m2c97cyP8HMk"
      },
      "outputs": [],
      "source": [
        "sports['buy_zon']= sports['buy_zon'].fillna('N')"
      ]
    },
    {
      "cell_type": "code",
      "execution_count": null,
      "metadata": {
        "id": "ld2Z95DYAnaN"
      },
      "outputs": [],
      "source": [
        "# B,C,D,E의 null값은 구매하지 않았기에 0으로 대체\n",
        "sports['B'] = sports['B'].fillna(0)\n",
        "sports['C'] = sports['C'].fillna(0)\n",
        "sports['D'] = sports['D'].fillna(0)\n",
        "sports['E'] = sports['E'].fillna(0)"
      ]
    },
    {
      "cell_type": "code",
      "execution_count": null,
      "metadata": {
        "colab": {
          "base_uri": "https://localhost:8080/"
        },
        "id": "pGukhDqtAneQ",
        "outputId": "6d8480aa-9054-4f8e-ccc1-d3fc82d2e208"
      },
      "outputs": [
        {
          "output_type": "execute_result",
          "data": {
            "text/plain": [
              "0"
            ]
          },
          "metadata": {},
          "execution_count": 88
        }
      ],
      "source": [
        "sports.isnull().sum().sum()"
      ]
    },
    {
      "cell_type": "markdown",
      "metadata": {
        "id": "tRJefoFMAnhN"
      },
      "source": [
        "## buy_am 정규화"
      ]
    },
    {
      "cell_type": "code",
      "execution_count": null,
      "metadata": {
        "id": "X2bJA1j2vGQd",
        "colab": {
          "base_uri": "https://localhost:8080/"
        },
        "outputId": "1f091add-fe43-4a7b-c66f-b80f67e27918"
      },
      "outputs": [
        {
          "output_type": "stream",
          "name": "stdout",
          "text": [
            "15630.21458229683 59402.789483746135\n"
          ]
        },
        {
          "output_type": "display_data",
          "data": {
            "text/plain": [
              "<Figure size 432x288 with 1 Axes>"
            ],
            "image/png": "[encoded data removed]"
          },
          "metadata": {
            "needs_background": "light"
          }
        },
        {
          "output_type": "display_data",
          "data": {
            "text/plain": [
              "<Figure size 432x288 with 1 Axes>"
            ],
            "image/png": "[encoded data removed]"
          },
          "metadata": {
            "needs_background": "light"
          }
        }
      ],
      "source": [
        "# 정규화 전처리\n",
        "\n",
        "from sklearn.preprocessing import StandardScaler\n",
        "from scipy import stats\n",
        "from scipy.stats import norm, skew\n",
        "\n",
        "sns.distplot(sports['buy_am'], fit=norm)\n",
        "\n",
        "(mu, sigma) = norm.fit(sports['buy_am'])\n",
        "print(mu, sigma)\n",
        "\n",
        "# 분포 그래프\n",
        "plt.legend(['Normal dist. ($\\mu$={:.2f} and $\\sigma$={:.2f})'.format(mu,sigma)], loc='best')\n",
        "plt.ylabel('Frequency')\n",
        "plt.title('SalePrice distribution')\n",
        "\n",
        "#qq-plot\n",
        "fig = plt.figure()\n",
        "res = stats.probplot(sports['buy_am'], plot=plt)\n",
        "plt.show()"
      ]
    },
    {
      "cell_type": "code",
      "execution_count": null,
      "metadata": {
        "id": "4jqM5lfYRhik"
      },
      "outputs": [],
      "source": [
        "def get_preprocessed_df(df=None):\n",
        "    df_copy = df.copy()\n",
        "    amount_n = np.log1p(df_copy['buy_am'])\n",
        "    df_copy.insert(0, 'Amount_Scaled', amount_n)\n",
        "    df_copy.drop(['buy_am'], axis=1, inplace=True)\n",
        "    return df_copy"
      ]
    },
    {
      "cell_type": "code",
      "execution_count": null,
      "metadata": {
        "id": "p7SS1b2PRhmC"
      },
      "outputs": [],
      "source": [
        "sports = get_preprocessed_df(df=sports)\n"
      ]
    },
    {
      "cell_type": "markdown",
      "metadata": {
        "id": "Eungq84yiHKH"
      },
      "source": [
        "# RFM"
      ]
    },
    {
      "cell_type": "markdown",
      "metadata": {
        "id": "3SwjIwyliHKL"
      },
      "source": [
        "### recency_data = 현재 날짜 - 고객 ID별 가장 마지막 구매일\n",
        "- 현재날짜를 maxdate로()('2021-12-31')로 가정"
      ]
    },
    {
      "cell_type": "code",
      "execution_count": null,
      "metadata": {
        "id": "8eXINbmhiHKP"
      },
      "outputs": [],
      "source": [
        "sports_rfm = sports[(sports['clac'] == '스포츠')]"
      ]
    },
    {
      "cell_type": "code",
      "execution_count": null,
      "metadata": {
        "id": "GXFNCbOxiHKP"
      },
      "outputs": [],
      "source": [
        "recency_data = sports_rfm.groupby('cust',as_index= False )['de_dt'].max()  #as_index: reset_index 랑 동일\n",
        "recency_data.columns = ['CustomerID', 'LastPurchaseDate']"
      ]
    },
    {
      "cell_type": "markdown",
      "metadata": {
        "id": "4qkgu7L4iHKQ"
      },
      "source": [
        "*** 현재날짜변경***"
      ]
    },
    {
      "cell_type": "code",
      "execution_count": null,
      "metadata": {
        "id": "movA6GEYiHKR"
      },
      "outputs": [],
      "source": [
        "# 현재날짜를 maxdate로()('2021-12-31')로 가정\n",
        "recency_data['Recency'] = recency_data['LastPurchaseDate'].apply(lambda x: (sports_rfm['de_dt'].max() - x).days)\n"
      ]
    },
    {
      "cell_type": "code",
      "execution_count": null,
      "metadata": {
        "id": "G36lkhdNiHKS"
      },
      "outputs": [],
      "source": [
        "recency_data.drop(columns =['LastPurchaseDate'],inplace = True )"
      ]
    },
    {
      "cell_type": "markdown",
      "metadata": {
        "id": "dhgG4LCoiHKS"
      },
      "source": [
        "### Frequency(최빈성)\n",
        "\n",
        "- invoiceNo(rct_no와 동일): 다양한 물품을 구매해도, 송장번호가 한개면 한번 구매한것으로 여김"
      ]
    },
    {
      "cell_type": "code",
      "execution_count": null,
      "metadata": {
        "id": "u4qUBKD3iHKT"
      },
      "outputs": [],
      "source": [
        "frequency_data = sports_rfm.copy()\n",
        "\n",
        "# 어떤 물품을 구매했는지가 아니라, 한 사람한테 몇개의 영수증번호가 있는지 매칭 \n",
        "frequency_data.drop_duplicates(subset = ['cust','rct_no'], keep = 'first',inplace = True)\n",
        "\n",
        "frequency_data = frequency_data.groupby('cust', as_index = False)['rct_no'].count()\n",
        "frequency_data.columns = ['CustomerID','Frequency']"
      ]
    },
    {
      "cell_type": "markdown",
      "metadata": {
        "id": "LxqBp2QsiHKU"
      },
      "source": [
        "### Monetary (금액)"
      ]
    },
    {
      "cell_type": "code",
      "execution_count": null,
      "metadata": {
        "id": "QnlqDvy7iHKU"
      },
      "outputs": [],
      "source": [
        "monetary_data=c_ana.groupby('cust',as_index=False)['buy_am'].sum()\n",
        "monetary_data.columns = ['CustomerID','Monetary']"
      ]
    },
    {
      "cell_type": "markdown",
      "metadata": {
        "id": "TcCJo4pyiHKV"
      },
      "source": [
        "merge 해주기 (recency + frequency + monetary)"
      ]
    },
    {
      "cell_type": "code",
      "execution_count": null,
      "metadata": {
        "id": "lxyG8bfGiHKY"
      },
      "outputs": [],
      "source": [
        "rf = recency_data.merge(frequency_data, how = 'left', on='CustomerID')\n",
        "rfm = rf.merge(monetary_data, how = 'left', on='CustomerID')"
      ]
    },
    {
      "cell_type": "markdown",
      "metadata": {
        "id": "3VypeMCFiHKZ"
      },
      "source": [
        "### 스케일링 (minmax)\n",
        "- minmax_scale: 최대값을 1. 최소값을 0으로 표준화 하는 기법\n",
        "- RFM을 하나의 점수로 환산시켜야 함\n",
        "- 현재 각각의 단위가 다르기 때문에 각 컬럼별 기준으로 표준화 필요"
      ]
    },
    {
      "cell_type": "code",
      "execution_count": null,
      "metadata": {
        "id": "nvIvyqCTiHKa"
      },
      "outputs": [],
      "source": [
        "from sklearn.preprocessing import minmax_scale\n",
        "\n",
        "## 최근성: 숫자가 작을수록 좋음\n",
        "# 즉, 최근 구매일이 얼마 지나지 않은 고객이 더 점수가 높음\n",
        "\n",
        "rfm['Recency'] = minmax_scale(rfm['Recency'], axis = 0, copy = True )\n",
        "#행기준으로, 카피해서 만들기\n",
        "rfm['Recency'] = 1 - rfm['Recency']  # 작은값이 좋기 때문에, 1에서 빼줌(반전)\n",
        "\n",
        "rfm['Frequency'] = minmax_scale(rfm['Frequency'], axis = 0, copy = True )\n",
        "\n",
        "rfm['Monetary'] = minmax_scale(rfm['Monetary'], axis = 0, copy = True )\n"
      ]
    },
    {
      "cell_type": "code",
      "execution_count": null,
      "metadata": {
        "id": "BHoyaHKUiHKd"
      },
      "outputs": [],
      "source": [
        "# score\n",
        "rfm['Score'] = rfm['Recency'] + rfm['Frequency'] + rfm['Monetary']\n",
        "\n",
        "# score 에 minmax_scale 적용\n",
        "# 100을 곱해서 100점 만점으로 스케일링\n",
        "\n",
        "rfm['Score'] = minmax_scale(rfm['Score'], axis = 0, copy = True) * 100\n",
        "\n",
        "rfm['Score'] = round(rfm['Score'], 0)"
      ]
    },
    {
      "cell_type": "markdown",
      "source": [
        "데이터 merge : sports + rfm"
      ],
      "metadata": {
        "id": "ESZMUyGkfJFG"
      }
    },
    {
      "cell_type": "code",
      "source": [
        "sports = sports.merge(rfm, left_on = 'cust', right_on = 'CustomerID', how='left')"
      ],
      "metadata": {
        "id": "QzH0w9tmfJBF"
      },
      "execution_count": null,
      "outputs": []
    },
    {
      "cell_type": "code",
      "source": [
        "sports = sports.fillna('0')"
      ],
      "metadata": {
        "id": "zCLDZCr-mb0_"
      },
      "execution_count": null,
      "outputs": []
    },
    {
      "cell_type": "code",
      "source": [
        "# null값 없음\n",
        "sports.isnull().sum().sum()"
      ],
      "metadata": {
        "colab": {
          "base_uri": "https://localhost:8080/"
        },
        "id": "bnR-x6iCnE2C",
        "outputId": "a6b87453-5b18-4703-c24b-3dccb4e34803"
      },
      "execution_count": null,
      "outputs": [
        {
          "output_type": "execute_result",
          "data": {
            "text/plain": [
              "0"
            ]
          },
          "metadata": {},
          "execution_count": 106
        }
      ]
    },
    {
      "cell_type": "code",
      "source": [
        "# 필요없는 열 삭제\n",
        "\n",
        "sports.drop(['clac','live_zon','rct_no','de_dt','CustomerID'], axis=1, inplace=True)"
      ],
      "metadata": {
        "id": "mww4E-bmovo4"
      },
      "execution_count": null,
      "outputs": []
    },
    {
      "cell_type": "code",
      "source": [
        "sports.drop(['Recency','Frequency','Monetary'], axis=1, inplace=True)"
      ],
      "metadata": {
        "id": "Z6UiGcauquNf"
      },
      "execution_count": null,
      "outputs": []
    },
    {
      "cell_type": "code",
      "source": [
        "sports['Score'] = sports['Score'].astype('float') # Score str -> float"
      ],
      "metadata": {
        "id": "mOCRcpNFrvhz"
      },
      "execution_count": null,
      "outputs": []
    },
    {
      "cell_type": "markdown",
      "metadata": {
        "id": "1PfhOHXo8HTH"
      },
      "source": [
        "# 모델링"
      ]
    },
    {
      "cell_type": "markdown",
      "metadata": {
        "id": "8YVJwWDoALin"
      },
      "source": [
        "## train_valid, test set 나누기"
      ]
    },
    {
      "cell_type": "code",
      "execution_count": null,
      "metadata": {
        "id": "_76esbb9ALld"
      },
      "outputs": [],
      "source": [
        "from sklearn.model_selection import train_test_split\n",
        "from sklearn.model_selection import KFold, cross_val_score, train_test_split\n",
        "import xgboost as xgb\n",
        "import lightgbm as lgb\n",
        "from sklearn.linear_model import LogisticRegression\n",
        "from lightgbm import LGBMClassifier\n",
        "from sklearn.metrics import roc_auc_score,f1_score, accuracy_score, confusion_matrix, recall_score, precision_score\n",
        "\n",
        "\n",
        "# 스포츠를 산다 1, 안산다 0 (y값)\n",
        "X = sports.drop(['sports'], axis=1)\n",
        "y = sports['sports']\n",
        "\n",
        "# train, test 나누기\n",
        "X_train_valid, X_test, y_train_valid, y_test = train_test_split(X, y, test_size=0.25, random_state=1234, stratify=y)\n",
        "\n",
        "\n",
        "# 1. test 데이터에서 cust_ID 나누기\n",
        "test_id = X_test['cust'] \n",
        "\n",
        "# 2. X_test에서  cust_ID 삭제\n",
        "X_test.drop(['cust'], axis=1, inplace=True)\n",
        "\n",
        "# 3. X_train_valid 데이터에서 ID 삭제\n",
        "X_train_valid.drop(['cust'], axis=1, inplace=True)"
      ]
    },
    {
      "cell_type": "markdown",
      "metadata": {
        "id": "ByFc5ZPEALo0"
      },
      "source": [
        "## Feature Engineer"
      ]
    },
    {
      "cell_type": "code",
      "execution_count": null,
      "metadata": {
        "id": "560kKqOjALrx"
      },
      "outputs": [],
      "source": [
        "# OneHot Encoding \n",
        "\n",
        "X_train_valid = pd.get_dummies(X_train_valid)\n",
        "\n",
        "# 모델링 이후 test 할 때를 위해 get_dummies\n",
        "X_test_copy = pd.get_dummies(X_test)"
      ]
    },
    {
      "cell_type": "markdown",
      "metadata": {
        "id": "B997sbQjJDLc"
      },
      "source": [
        "## train, valid set 나누기"
      ]
    },
    {
      "cell_type": "code",
      "execution_count": null,
      "metadata": {
        "id": "-wqBoAl1zfUV"
      },
      "outputs": [],
      "source": [
        "# X_train_test 에서 train 과 test 나누기\n",
        "# X_train, y_train\n",
        "# X_valid, y_valid\n",
        "X_train , X_valid, y_train, y_valid = train_test_split(X_train_valid, y_train_valid, test_size = 0.25, random_state = 1234, stratify=y_train_valid)"
      ]
    },
    {
      "cell_type": "markdown",
      "metadata": {
        "id": "I41OYWhONtxW"
      },
      "source": [
        "##  SMOTE 오버 샘플링\n",
        "\n"
      ]
    },
    {
      "cell_type": "code",
      "execution_count": null,
      "metadata": {
        "id": "74MZ6CE2OAnT"
      },
      "outputs": [],
      "source": [
        "# y값의 분포가 매우 불균형하여 smote기법으로 오버 샘플링 이후 모델에 적용"
      ]
    },
    {
      "cell_type": "code",
      "execution_count": null,
      "metadata": {
        "colab": {
          "base_uri": "https://localhost:8080/"
        },
        "id": "TajmFVwnN1F2",
        "outputId": "6f94eef6-3ca8-44d3-bbd2-cd0d4fd8304e"
      },
      "outputs": [
        {
          "output_type": "stream",
          "name": "stdout",
          "text": [
            "SMOTE 적용 전 학습용 피쳐/레이블 데이터 세트:  (2135712, 45) (2135712,)\n",
            "SMOTE 적용 후 학습용 피쳐/레이블 데이터 세트:  (4177498, 45) (4177498,)\n",
            "SMOTE 적용 후 레이블 값 분포: \n",
            " 0    2088749\n",
            "1    2088749\n",
            "Name: sports, dtype: int64\n"
          ]
        }
      ],
      "source": [
        "from imblearn.over_sampling import SMOTE\n",
        "smote = SMOTE(random_state=0)\n",
        "X_train_over, y_train_over = smote.fit_resample(X_train, y_train)\n",
        "print('SMOTE 적용 전 학습용 피쳐/레이블 데이터 세트: ', X_train.shape, y_train.shape)\n",
        "print('SMOTE 적용 후 학습용 피쳐/레이블 데이터 세트: ', X_train_over.shape, y_train_over.shape)\n",
        "print('SMOTE 적용 후 레이블 값 분포: \\n', pd.Series(y_train_over).value_counts())"
      ]
    },
    {
      "cell_type": "markdown",
      "metadata": {
        "id": "Q1DiEoz_KXdP"
      },
      "source": [
        "## 모델 예측 성능"
      ]
    },
    {
      "cell_type": "code",
      "source": [
        "# lightgbm\n",
        "lgbm_clf = LGBMClassifier(n_estimators=1000, num_leaves=64, n_jobs=-1)"
      ],
      "metadata": {
        "id": "4EAP02WmMtcM"
      },
      "execution_count": null,
      "outputs": []
    },
    {
      "cell_type": "code",
      "source": [
        "lgbm_clf.fit(X_train_over, y_train_over)"
      ],
      "metadata": {
        "id": "y_YUrKN3Obbl"
      },
      "execution_count": null,
      "outputs": []
    },
    {
      "cell_type": "code",
      "source": [
        "pred = lgbm_clf.predict(X_valid)\n",
        "pred_proba = lgbm_clf.predict_proba(X_valid)[:,1]"
      ],
      "metadata": {
        "id": "FpnOR1CsOy2D"
      },
      "execution_count": null,
      "outputs": []
    },
    {
      "cell_type": "code",
      "source": [
        "from sklearn.metrics import roc_auc_score,f1_score, accuracy_score\n",
        "\n",
        "accuracy = accuracy_score(y_valid, pred)\n",
        "roc_auc = roc_auc_score(y_valid, pred_proba)\n",
        "\n",
        "print(f'정확도:{accuracy}, AUC:{roc_auc}')"
      ],
      "metadata": {
        "id": "M3zWKKnUO0-b",
        "colab": {
          "base_uri": "https://localhost:8080/"
        },
        "outputId": "4fda9a96-d217-4a28-ce05-682d9eac0bd7"
      },
      "execution_count": null,
      "outputs": [
        {
          "output_type": "stream",
          "name": "stdout",
          "text": [
            "정확도:0.961271517969392, AUC:0.9629518213276089\n"
          ]
        }
      ]
    },
    {
      "cell_type": "code",
      "source": [
        "from sklearn.model_selection import cross_val_score, StratifiedKFold, learning_curve\n",
        "\n",
        "def plot_learning_curve(estimator, title, X, y, ylim=None, cv=None,\n",
        "                        n_jobs=-1, train_sizes=np.linspace(.1, 1.0, 5)):\n",
        "    plt.figure()\n",
        "    plt.title(title)\n",
        "    if ylim is not None:\n",
        "        plt.ylim(*ylim)\n",
        "    plt.xlabel(\"Training examples\")\n",
        "    plt.ylabel(\"Score\")\n",
        "    train_sizes, train_scores, test_scores = learning_curve(\n",
        "        estimator, X, y, cv=cv, n_jobs=n_jobs, train_sizes=train_sizes)\n",
        "    train_scores_mean = np.mean(train_scores, axis=1)\n",
        "    train_scores_std = np.std(train_scores, axis=1)\n",
        "    test_scores_mean = np.mean(test_scores, axis=1)\n",
        "    test_scores_std = np.std(test_scores, axis=1)\n",
        "    plt.grid()\n",
        "\n",
        "    plt.fill_between(train_sizes, train_scores_mean - train_scores_std,\n",
        "                     train_scores_mean + train_scores_std, alpha=0.1,\n",
        "                     color=\"r\")\n",
        "    plt.fill_between(train_sizes, test_scores_mean - test_scores_std,\n",
        "                     test_scores_mean + test_scores_std, alpha=0.1, color=\"g\")\n",
        "    plt.plot(train_sizes, train_scores_mean, 'o-', color=\"r\",\n",
        "             label=\"Training score\")\n",
        "    plt.plot(train_sizes, test_scores_mean, 'o-', color=\"g\",\n",
        "             label=\"Cross-validation score\")\n",
        "\n",
        "    plt.legend(loc=\"best\")\n",
        "    return plt"
      ],
      "metadata": {
        "id": "FN42YXD8L4ZI"
      },
      "execution_count": null,
      "outputs": []
    },
    {
      "cell_type": "code",
      "source": [
        "def plot_roc_curve(fper, tper):\n",
        "    plt.plot(fper, tper, color='red', label='ROC')\n",
        "    plt.plot([0, 1], [0, 1], color='green', linestyle='--')\n",
        "    plt.xlabel('False Positive Rate')\n",
        "    plt.ylabel('True Positive Rate')\n",
        "    plt.title('Receiver Operating Characteristic Curve')\n",
        "    plt.legend()\n",
        "    plt.show()\n",
        "    "
      ],
      "metadata": {
        "id": "U5GKxXtpL4iX"
      },
      "execution_count": null,
      "outputs": []
    },
    {
      "cell_type": "code",
      "source": [
        "from sklearn.metrics import roc_curve\n",
        "pred_proba = lgbm_clf.predict_proba(X_valid)[:,1]\n",
        "fper, tper, thresholds = roc_curve(y_valid, pred_proba)\n",
        "plot_roc_curve(fper, tper)"
      ],
      "metadata": {
        "id": "1PIn_460REg-",
        "colab": {
          "base_uri": "https://localhost:8080/",
          "height": 295
        },
        "outputId": "3d07b1b7-f49f-44d6-f2d5-fbaf2926f48c"
      },
      "execution_count": null,
      "outputs": [
        {
          "output_type": "display_data",
          "data": {
            "text/plain": [
              "<Figure size 432x288 with 1 Axes>"
            ],
            "image/png": "[encoded data removed]"
          },
          "metadata": {
            "needs_background": "light"
          }
        }
      ]
    },
    {
      "cell_type": "code",
      "source": [
        "test_pred = lgbm_clf.predict(X_test_copy)"
      ],
      "metadata": {
        "id": "yZiUgbWJbbhd"
      },
      "execution_count": null,
      "outputs": []
    },
    {
      "cell_type": "code",
      "source": [
        "result = pd.DataFrame({'cust_id' : test_id, 'purchase' : test_pred})"
      ],
      "metadata": {
        "id": "2KwBNtktRElB"
      },
      "execution_count": null,
      "outputs": []
    },
    {
      "cell_type": "code",
      "source": [
        "X_test = X_test[['month','day','weekday']]"
      ],
      "metadata": {
        "id": "82XpVu30REon"
      },
      "execution_count": null,
      "outputs": []
    },
    {
      "cell_type": "code",
      "source": [
        "import joblib"
      ],
      "metadata": {
        "id": "h-IgqFEKicma"
      },
      "execution_count": null,
      "outputs": []
    },
    {
      "cell_type": "code",
      "source": [
        "joblib.dump(lgbm_clf, './3.데린이_데이터 및 모델 세이브 파일.pkl')"
      ],
      "metadata": {
        "colab": {
          "base_uri": "https://localhost:8080/"
        },
        "id": "t_ZK0oHEiqRv",
        "outputId": "33115994-1f8e-4913-ac06-c8d37ced4835"
      },
      "execution_count": null,
      "outputs": [
        {
          "output_type": "execute_result",
          "data": {
            "text/plain": [
              "['./3.데린이_데이터 및 모델 세이브 파일.pkl']"
            ]
          },
          "metadata": {},
          "execution_count": 163
        }
      ]
    },
    {
      "cell_type": "code",
      "execution_count": null,
      "metadata": {
        "id": "gTbw6vIOKWjv"
      },
      "outputs": [],
      "source": [
        ""
      ]
    }
  ],
  "metadata": {
    "colab": {
      "collapsed_sections": [
        "MjnG9vvrC0-T",
        "mt8dtjYfC1Eu",
        "qVaNt0imC1aX",
        "dhgG4LCoiHKS",
        "LxqBp2QsiHKU",
        "3VypeMCFiHKZ",
        "8YVJwWDoALin"
      ],
      "machine_shape": "hm",
      "name": "Lpoint_code",
      "provenance": [],
      "toc_visible": true,
      "include_colab_link": true
    },
    "gpuClass": "standard",
    "kernelspec": {
      "display_name": "Python 3",
      "name": "python3"
    },
    "language_info": {
      "name": "python"
    }
  },
  "nbformat": 4,
  "nbformat_minor": 0
}